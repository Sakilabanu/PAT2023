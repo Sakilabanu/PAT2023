{
 "cells": [
  {
   "cell_type": "markdown",
   "id": "bd29fa76",
   "metadata": {},
   "source": [
    "# TASK 8"
   ]
  },
  {
   "cell_type": "code",
   "execution_count": 1,
   "id": "111c74b3",
   "metadata": {},
   "outputs": [
    {
     "name": "stdout",
     "output_type": "stream",
     "text": [
      "[10, 501, 22, 37, 100, 999, 87, 351]\n"
     ]
    }
   ],
   "source": [
    "#1 Create a program class called circle with constructor which will take a list as an argument for the task.\n",
    "#The List is[10,501,22,37,100,999,87,351]\n",
    "class Circle:\n",
    "    # constructor\n",
    "    def __init__(self):\n",
    "        # initializing instance variable\n",
    "        self.num=[10,501,22,37,100,999,87,351]\n",
    "\n",
    "    # a method\n",
    "    def read_number(self):\n",
    "        print(self.num)\n",
    "\n",
    "\n",
    "# creating object of the class. This invokes constructor\n",
    "obj = Circle()\n",
    "\n",
    "# calling the instance method using the object obj\n",
    "obj.read_number()"
   ]
  },
  {
   "cell_type": "code",
   "execution_count": 2,
   "id": "e2439df9",
   "metadata": {},
   "outputs": [
    {
     "name": "stdout",
     "output_type": "stream",
     "text": [
      "Private Variable value:  33\n"
     ]
    },
    {
     "data": {
      "text/plain": [
       "33"
      ]
     },
     "execution_count": 2,
     "metadata": {},
     "output_type": "execute_result"
    }
   ],
   "source": [
    "#2 Create proper member variables inside the task if required and use them when necessary.For example for this task \n",
    "# create a class private variable named pi=3.141\n",
    "class myClass:\n",
    "   a = 33;\n",
    "   def __privMeth(self):\n",
    "      print(\"I'm inside class myClass\")\n",
    "   def hello(self):\n",
    "      print(\"Private Variable value: \",myClass.a)\n",
    "foo = myClass()\n",
    "foo.hello()\n",
    "foo.a"
   ]
  },
  {
   "cell_type": "code",
   "execution_count": 3,
   "id": "fe68380c",
   "metadata": {},
   "outputs": [
    {
     "name": "stdout",
     "output_type": "stream",
     "text": [
      "451.2871252038085\n",
      "43.974000000000004\n"
     ]
    }
   ],
   "source": [
    "#3 From the given List create two class Methods Area and Perimeter which will be going to calculate the Area \n",
    "# Area and Perimeter\n",
    "class Circle():\n",
    "   \n",
    "    def __init__(self, r):\n",
    "        self.radius = r\n",
    "\n",
    "    def area(self):\n",
    "        return self.radius**3.141\n",
    "    \n",
    "    def perimeter(self):\n",
    "        return 2*self.radius*3.141\n",
    "\n",
    "NewCircle = Circle(7)\n",
    "print(NewCircle.area())\n",
    "print(NewCircle.perimeter())"
   ]
  },
  {
   "cell_type": "code",
   "execution_count": null,
   "id": "c8a627ba",
   "metadata": {},
   "outputs": [],
   "source": [
    "TVClass - Base class\n",
    "LedTV class\n",
    "PlasmaTV class\n",
    "Part - A\n",
    "\n",
    "Create a TV class with properties like brand, channel , price , inches , OnOFF status and volume. \n",
    "Specify brand in a constructor parameter. \n",
    "Channel should be 1 by default. Volume should be 50 by default.\n",
    "Add methods to increase and decrease volume. \n",
    "Volume can't never be below 0 or above 100.\n",
    "Add a method to set the channel. \n",
    "Let's say the TV has only 50 channels so \n",
    "if you try to set channel 60 the TV will stay at the current channel.\n",
    "Add a method to reset TV so it goes back to channel 1 and volume 50. (Hint: consider using it from the constructor).\n",
    "It's useful to write a status that returns info about the TV status like: \"Panasonic at channel 8, volume 75\".\n",
    "Part - B : LED , Plasma\n",
    "\n",
    "Inherit a TV class add additional properties like screen thickness, \n",
    "energy usage , Lifespan , Refresh rate , functionalities like viewingAngle , \n",
    "Backlight, DisplayDetails , which displays the detailed features of the TV"
   ]
  },
  {
   "cell_type": "code",
   "execution_count": null,
   "id": "d95c1204",
   "metadata": {},
   "outputs": [],
   "source": [
    "\n",
    "\n",
    "\n",
    "class TvClass:\n",
    "    def _init_(self,brand, channel=1, price, inches, OnOFF, volume=50)\n",
    "        self.brand = brand\n",
    "        self.channel = channel\n",
    "        self.price = price\n",
    "        self.inches = inches\n",
    "        self.OnOFF = OnOFF\n",
    "        self.volume = volume\n",
    "\n",
    "    def increasevolume(self):\n",
    "        if self.volume < 100:\n",
    "            self.volume += 1\n",
    "\n",
    "    def decreasevolume(self):\n",
    "          if self.volume > 100:\n",
    "            self.volume -= 1     \n",
    "\n",
    "    def changechannel (self, channelnumber):\n",
    "        if 0 <= channelnumber <= 50;\n",
    "            self.channel = channelnumber\n",
    "\n",
    "    def reset(self):\n",
    "        self.channel = 1\n",
    "        self.volume = 50\n",
    "\n",
    "    # Panasonic at channel 8, volume 75\n",
    "    def showstatus(self):\n",
    "        print(f\"{self.brand} at channel {self.channel},volume{self.volume}\")  \n",
    "\n",
    "Class Plasma:\n",
    "     pass\n",
    "\n",
    "Class LED:\n",
    "     pass\n",
    "\n",
    "plasma = Plasma(\"Panasonic\", 80000, 75, \"On\") \n",
    "plasma.showstatus()\n",
    "plasma.increasevolume()\n",
    "plasma.increasevolume()\n",
    "plasma.changechannel(70)\n",
    "plasma.showstatus()\n"
   ]
  },
  {
   "cell_type": "code",
   "execution_count": null,
   "id": "68266495",
   "metadata": {},
   "outputs": [],
   "source": []
  },
  {
   "cell_type": "code",
   "execution_count": null,
   "id": "0169c6ee",
   "metadata": {},
   "outputs": [],
   "source": []
  },
  {
   "cell_type": "code",
   "execution_count": null,
   "id": "400d6cef",
   "metadata": {},
   "outputs": [],
   "source": []
  },
  {
   "cell_type": "code",
   "execution_count": null,
   "id": "d08988c7",
   "metadata": {},
   "outputs": [],
   "source": []
  },
  {
   "cell_type": "code",
   "execution_count": null,
   "id": "4b1411de",
   "metadata": {},
   "outputs": [],
   "source": []
  },
  {
   "cell_type": "code",
   "execution_count": null,
   "id": "01e9e4c2",
   "metadata": {},
   "outputs": [],
   "source": []
  },
  {
   "cell_type": "code",
   "execution_count": null,
   "id": "275965c1",
   "metadata": {},
   "outputs": [],
   "source": []
  }
 ],
 "metadata": {
  "kernelspec": {
   "display_name": "Python 3 (ipykernel)",
   "language": "python",
   "name": "python3"
  },
  "language_info": {
   "codemirror_mode": {
    "name": "ipython",
    "version": 3
   },
   "file_extension": ".py",
   "mimetype": "text/x-python",
   "name": "python",
   "nbconvert_exporter": "python",
   "pygments_lexer": "ipython3",
   "version": "3.11.4"
  }
 },
 "nbformat": 4,
 "nbformat_minor": 5
}
