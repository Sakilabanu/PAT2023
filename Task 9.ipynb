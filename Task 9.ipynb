{
 "cells": [
  {
   "cell_type": "markdown",
   "id": "9a8adda5",
   "metadata": {},
   "source": [
    "# Task 9"
   ]
  },
  {
   "cell_type": "code",
   "execution_count": 1,
   "id": "2ebca319",
   "metadata": {},
   "outputs": [
    {
     "name": "stdout",
     "output_type": "stream",
     "text": [
      "[10, 501, 22, 37, 100, 999, 87, 351]\n"
     ]
    }
   ],
   "source": [
    "#1 What is the expected output of the following python code given below:\n",
    "data = [10,501,22,37,100,999,87,351]\n",
    "result = filter (lambda x: x>4,data)\n",
    "print(list(result))\n",
    "  "
   ]
  },
  {
   "cell_type": "code",
   "execution_count": 11,
   "id": "8fbc55b8",
   "metadata": {},
   "outputs": [
    {
     "name": "stdout",
     "output_type": "stream",
     "text": [
      "The original list : [[5, 6, 3], ['Gfg', 3, 'is'], [9, 'best', 4]]\n",
      "The string instances : ['Gfg', 'is', 'best']\n",
      "The string instances : [5, 6, 3, 3, 9, 4]\n"
     ]
    }
   ],
   "source": [
    "# 2 Write a Python code using Lambda function to check every element of a List \n",
    "# is an Integer or string?\n",
    "from functools import reduce\n",
    "\n",
    "test_list = [[5,6,3],[\"Gfg\", 3, \"is\"],[9, \"best\", 4]]\n",
    "\n",
    "print(\"The original list : \" + str(test_list))\n",
    "\n",
    "res = reduce(lambda acc, sublist: acc + [elem for elem in sublist if isinstance(elem, str)], test_list, [])\n",
    "\n",
    "print(\"The string instances : \" + str(res))\n",
    "\n",
    "res1 = reduce(lambda acc, sublist: acc + [elem for elem in sublist if isinstance(elem, int)], test_list, [])\n",
    "\n",
    "print(\"The string instances : \" + str(res1))\n",
    "\n",
    "\n"
   ]
  },
  {
   "cell_type": "code",
   "execution_count": 8,
   "id": "4ca6f92c",
   "metadata": {},
   "outputs": [
    {
     "name": "stdout",
     "output_type": "stream",
     "text": [
      "[0, 1, 1, 2, 3, 5, 8, 13, 21, 34, 55, 89, 144, 233, 377, 610, 987, 1597, 2584, 4181, 6765, 10946, 17711, 28657, 46368, 75025, 121393, 196418, 317811, 514229, 832040, 1346269, 2178309, 3524578, 5702887, 9227465, 14930352, 24157817, 39088169, 63245986, 102334155, 165580141, 267914296, 433494437, 701408733, 1134903170, 1836311903, 2971215073, 4807526976, 7778742049]\n"
     ]
    }
   ],
   "source": [
    "#3) USing a python Lambda function create a fibonacci series from 1 to 50 elements?\n",
    "\n",
    "def fibonacci(count):\n",
    "    fib_list = [0, 1]\n",
    "    \n",
    "    any(map(lambda _: fib_list.append(sum(fib_list[-2:])), \n",
    "                                    range(2, count)))\n",
    "    \n",
    "    \n",
    "    return fib_list[:count]\n",
    "\n",
    "print(fibonacci(50))"
   ]
  },
  {
   "cell_type": "code",
   "execution_count": null,
   "id": "a14f2c75",
   "metadata": {},
   "outputs": [],
   "source": [
    "#4) Write a Python function to validate the Regular Expression for the following:-\n",
    "# a) Email Address\n",
    "#b) Mobile numbers of Bangaladesh\n",
    "#c) Telephone numbers of USA\n",
    "#d) 16 character Alpha-Numeric password composed of alphabets of Uppercase,Lowercase,Special Characters,Numbers."
   ]
  },
  {
   "cell_type": "code",
   "execution_count": null,
   "id": "a826f7db",
   "metadata": {},
   "outputs": [],
   "source": []
  },
  {
   "cell_type": "code",
   "execution_count": null,
   "id": "2632e239",
   "metadata": {},
   "outputs": [],
   "source": []
  }
 ],
 "metadata": {
  "kernelspec": {
   "display_name": "Python 3 (ipykernel)",
   "language": "python",
   "name": "python3"
  },
  "language_info": {
   "codemirror_mode": {
    "name": "ipython",
    "version": 3
   },
   "file_extension": ".py",
   "mimetype": "text/x-python",
   "name": "python",
   "nbconvert_exporter": "python",
   "pygments_lexer": "ipython3",
   "version": "3.11.4"
  }
 },
 "nbformat": 4,
 "nbformat_minor": 5
}
